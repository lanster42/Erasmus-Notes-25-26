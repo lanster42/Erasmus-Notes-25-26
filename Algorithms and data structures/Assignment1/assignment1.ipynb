{
 "cells": [
  {
   "cell_type": "markdown",
   "id": "d1f883b9",
   "metadata": {},
   "source": [
    "# Assignment 1\n",
    "**Author:** Lan Stare\n",
    "**Date:** 4. 9. 2025"
   ]
  },
  {
   "cell_type": "markdown",
   "id": "f32c01ae",
   "metadata": {},
   "source": [
    "\n",
    "### Question 1\n",
    "\n",
    "- $2.8 \\times 10^{6}$  Explanation: We want $n \\log(n) \\leq 6.0 \\times 10^7$. I will use base 2 for logarithms. I tried to use $n = 4000000$ and got a too big number, so through trial and error I got to $n \\approx 2.8 \\times 10^{6}$ and got the number: $5.996\\ldots \\times 10^{6}$ which is a good enough approximation. I followed a similar procedure for the following examples. I have also rounded values so the number of elements processed might be a bit less.\n",
    "- $1.5 \\times 10^{5}$  \n",
    "- $1.3 \\times 10^{1}$  \n",
    "- $1.7 \\times 10^{2}$  \n",
    "- $2.0 \\times 10^{0}$\n",
    "- $1.1 \\times 10^{1}$\n",
    "- $4.0 \\times 10^{6}$  \n"
   ]
  },
  {
   "cell_type": "markdown",
   "id": "d6c4fa45",
   "metadata": {},
   "source": [
    "\n",
    "### Question 2\n",
    "\n",
    "It is not always true that for every function $f$:\n",
    "\n",
    "$$\n",
    "f(n) \\in \\mathcal{O}(f(n + 1))\n",
    "$$\n",
    "\n",
    "for example if we take $ f:\\mathbb{N}\\to\\mathbb{N} $ by\n",
    "$$\n",
    "f(n)=\n",
    "\\begin{cases}\n",
    "n, & \\text{if \\(n\\) is even}, \\\\[6pt]\n",
    "1, & \\text{if \\(n\\) is odd}.\n",
    "\\end{cases}\n",
    "$$\n",
    "\n",
    "This function is a counterexample, since we can always choose $k$ large enough so that $2k > c$, giving a contradiction. Therefore no such constant $c$ exists, so $f(n) \\notin O(f(n+1))$.\n",
    "\n",
    "\n"
   ]
  },
  {
   "cell_type": "markdown",
   "id": "2d5fa87c",
   "metadata": {},
   "source": [
    "\n",
    "### Question 3\n",
    "\n",
    "- **Proof 1**  \n",
    "If we choose $c := 2$ and $n_0 := 1$, then we get: $2n \\leq 2n$ for all $n \\geq n_0$\n",
    "\n",
    "- **Proof 2**  \n",
    "If we choose $c := 6$ and $n_0 := 5$, then we get: $3n + 5 \\leq 6n$ for all $n \\geq n_0$ due to the fact that $3 * 5 + 5 = 20$ and $6 * 5 = 30$ and the fact that the linear function $6n$ is increasing faster than $3n$ on the $\\mathbb{R}$.\n"
   ]
  },
  {
   "cell_type": "markdown",
   "id": "a2ca2090",
   "metadata": {},
   "source": [
    "\n",
    "### Question 4\n",
    "- **a)**  The worst case scenario is if $n$ is a large number and all elements of the vector $v[]$ have to be odd from the element 5 onwards. This is when the function will keep executing untill $i$ runs through all $n$.\n",
    "Time complexity: 2., 3., 6., 8., 10. rows happen in constant time since they only happen once. 4. and 5. row happen in $\\mathcal{O}(n)$ since they have to compare $i$ with $n$ until $i == n$ and since the function will keep executing due to oddness of elements of vector $v[]$, this comparisson will happen $n$ times. Therefore worst case complexity is $\\mathcal{O}(n)$.\n",
    "\n",
    "- **b)**  The best case scenario is if $n \\leq 0$ then the the time complexity of row 4 is constant, since it only has to compare two known elements and then the function jumps to return $i$, which is also constant. Time complexity is therefore constant. It only executes 4 constant operations.\n"
   ]
  },
  {
   "cell_type": "markdown",
   "id": "e4844471",
   "metadata": {},
   "source": [
    "POPRAVEK: b) in incorrect since n is never bellow 0. The correct answer is when the 5th element of the vector is even. Time complexity is then constant, since 4th row has to at most complete 5 comparisons and then ends once $i \\geq 5$."
   ]
  },
  {
   "cell_type": "markdown",
   "id": "c8d5e6b9",
   "metadata": {},
   "source": [
    "### Question 5"
   ]
  },
  {
   "cell_type": "code",
   "execution_count": 4,
   "id": "5f7f5b9f",
   "metadata": {},
   "outputs": [],
   "source": [
    "def recursion(n):\n",
    "    if n <= 1:\n",
    "        return 1\n",
    "    return n * recursion(n - 1)\n",
    "    "
   ]
  },
  {
   "cell_type": "markdown",
   "id": "f1dfe1ee",
   "metadata": {},
   "source": [
    "Time complexity of the function recursion(n) is $\\mathcal{O}$(n): in the first row we have a constant operation since we only compare n to a constant 1, the second row is also a constant operation since we only return a constant 1. The final row multiplies n with the result of function recursion(n). Multiplication is a constant operation, but the function recursion(n) is called again with argument n - 1. This means that the function will be called n times until it reaches the base case, which has constant time complexity. Therefore the time complexity is $\\mathcal{O}$(n)."
   ]
  }
 ],
 "metadata": {
  "kernelspec": {
   "display_name": "Python 3",
   "language": "python",
   "name": "python3"
  },
  "language_info": {
   "codemirror_mode": {
    "name": "ipython",
    "version": 3
   },
   "file_extension": ".py",
   "mimetype": "text/x-python",
   "name": "python",
   "nbconvert_exporter": "python",
   "pygments_lexer": "ipython3",
   "version": "3.12.2"
  }
 },
 "nbformat": 4,
 "nbformat_minor": 5
}
