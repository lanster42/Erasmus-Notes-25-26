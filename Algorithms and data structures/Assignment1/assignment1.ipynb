{
 "cells": [
  {
   "cell_type": "markdown",
   "id": "d1f883b9",
   "metadata": {},
   "source": [
    "# Assignment 1\n",
    "**Author:** Lan Stare\n",
    "**Date:** 4. 9. 2025"
   ]
  },
  {
   "cell_type": "markdown",
   "id": "f32c01ae",
   "metadata": {},
   "source": [
    "\n",
    "### Question 1\n",
    "\n",
    "- $1.0 \\times 10^{7}$  \n",
    "- $6.0 \\times 10^{4}$  \n",
    "- $6.0 \\times 10^{2}$  \n",
    "- $1.0 \\times 10^{-9}$  \n",
    "- $1.0 \\times 10^{-11}$  \n",
    "- **TODO**  \n",
    "- $7.2 \\times 10^{4}$  \n"
   ]
  },
  {
   "cell_type": "markdown",
   "id": "d6c4fa45",
   "metadata": {},
   "source": [
    "\n",
    "### Question 2\n",
    "\n",
    "It is not always true that for every function $f$:\n",
    "\n",
    "$$\n",
    "f(n) \\in \\mathcal{O}(f(n + 1))\n",
    "$$\n",
    "\n",
    "for example if we take $f(n) = n!$.\n",
    "\n"
   ]
  },
  {
   "cell_type": "markdown",
   "id": "2d5fa87c",
   "metadata": {},
   "source": [
    "\n",
    "### Question 3\n",
    "\n",
    "- **Proof 1**  \n",
    "TODO\n",
    "\n",
    "- **Proof 2**  \n",
    "TODO\n"
   ]
  },
  {
   "cell_type": "markdown",
   "id": "a2ca2090",
   "metadata": {},
   "source": [
    "\n",
    "### Question 4\n",
    "\n",
    "- TODO  \n",
    "- TODO\n"
   ]
  },
  {
   "cell_type": "markdown",
   "id": "c8d5e6b9",
   "metadata": {},
   "source": [
    "### Question 5"
   ]
  },
  {
   "cell_type": "code",
   "execution_count": 2,
   "id": "5f7f5b9f",
   "metadata": {},
   "outputs": [],
   "source": [
    "def recursion(n):\n",
    "    if n <= 1:\n",
    "        print(\"Recursion ends here\")\n",
    "        return 1\n",
    "    else:\n",
    "        return n * recursion(n - 1)\n",
    "    "
   ]
  }
 ],
 "metadata": {
  "kernelspec": {
   "display_name": "Python 3",
   "language": "python",
   "name": "python3"
  },
  "language_info": {
   "codemirror_mode": {
    "name": "ipython",
    "version": 3
   },
   "file_extension": ".py",
   "mimetype": "text/x-python",
   "name": "python",
   "nbconvert_exporter": "python",
   "pygments_lexer": "ipython3",
   "version": "3.12.2"
  }
 },
 "nbformat": 4,
 "nbformat_minor": 5
}
