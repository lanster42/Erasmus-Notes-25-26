{
 "cells": [
  {
   "cell_type": "markdown",
   "id": "d1f883b9",
   "metadata": {},
   "source": [
    "# Assignment 2\n",
    "**Author:** Lan Stare\n",
    "**Date:** 11. 9. 2025"
   ]
  },
  {
   "cell_type": "markdown",
   "id": "f32c01ae",
   "metadata": {},
   "source": [
    "\n",
    "### Question 1\n",
    "After initialization, only 2 is in the queue. In the first loop we move 2 from the queue to the explored array and add 3 and 4 to the queue. We also remember that 2 as the predecessor of 3 and 4. In the next loop we then move 3 from the queue to the explored array, so the queue only has 4. The predecessor of 3 is 2. In the next loop we move 4 from the queue to the explored and add 5 to the queue. We also remember the predecessors of 5 are 4 and 2. In the next loop we move 5 from the queue to the explored and put 1 in the queue, remembering its predecessors. In the enxt step we move 1 from the queue to explored and end the algorithm, since the queue is now empty. We have not discovered the number 0.\n",
    "\n"
   ]
  },
  {
   "cell_type": "markdown",
   "id": "d6c4fa45",
   "metadata": {},
   "source": [
    "\n",
    "### Question 2\n",
    "\n",
    "\n"
   ]
  },
  {
   "cell_type": "code",
   "execution_count": 11,
   "id": "a92a92c0",
   "metadata": {},
   "outputs": [
    {
     "name": "stdout",
     "output_type": "stream",
     "text": [
      "cb\n"
     ]
    }
   ],
   "source": [
    "def remove_adjacent_duplicates(s):\n",
    "    stack = []\n",
    "    for letter in s:\n",
    "        if stack != [] and letter == stack[-1]:\n",
    "            stack.pop()\n",
    "        else:\n",
    "            stack.append(letter)\n",
    "    return ''.join(stack)\n",
    "\n",
    "print(remove_adjacent_duplicates('aacacbbcab'))"
   ]
  },
  {
   "cell_type": "markdown",
   "id": "2d5fa87c",
   "metadata": {},
   "source": [
    "\n",
    "### Question 3"
   ]
  },
  {
   "cell_type": "code",
   "execution_count": 12,
   "id": "942c7fdc",
   "metadata": {},
   "outputs": [],
   "source": [
    "def print_cycle(graph, vertex):\n",
    "    pass"
   ]
  },
  {
   "cell_type": "markdown",
   "id": "a2ca2090",
   "metadata": {},
   "source": [
    "\n",
    "### Question 4\n"
   ]
  },
  {
   "cell_type": "markdown",
   "id": "c8d5e6b9",
   "metadata": {},
   "source": [
    "### Question 5"
   ]
  },
  {
   "cell_type": "code",
   "execution_count": null,
   "id": "5f7f5b9f",
   "metadata": {},
   "outputs": [],
   "source": [
    "\n",
    "    "
   ]
  },
  {
   "cell_type": "markdown",
   "id": "bf953934",
   "metadata": {},
   "source": []
  }
 ],
 "metadata": {
  "kernelspec": {
   "display_name": "Python 3",
   "language": "python",
   "name": "python3"
  },
  "language_info": {
   "codemirror_mode": {
    "name": "ipython",
    "version": 3
   },
   "file_extension": ".py",
   "mimetype": "text/x-python",
   "name": "python",
   "nbconvert_exporter": "python",
   "pygments_lexer": "ipython3",
   "version": "3.12.2"
  }
 },
 "nbformat": 4,
 "nbformat_minor": 5
}
