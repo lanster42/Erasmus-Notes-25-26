{
 "cells": [
  {
   "cell_type": "markdown",
   "id": "d1f883b9",
   "metadata": {},
   "source": [
    "# Assignment 2\n",
    "**Author:** Lan Stare\n",
    "**Date:** 11. 9. 2025"
   ]
  },
  {
   "cell_type": "markdown",
   "id": "f32c01ae",
   "metadata": {},
   "source": [
    "\n",
    "### Question 1\n",
    "After initialization, only 2 is in the queue. In the first loop we move 2 from the queue to the explored array and add 3 and 4 to the queue. We also remember that 2 as the predecessor of 3 and 4. In the next loop we then move 3 from the queue to the explored array, so the queue only has 4. The predecessor of 3 is 2. In the next loop we move 4 from the queue to the explored and add 5 to the queue. We also remember the predecessors of 5 are 4 and 2. In the next loop we move 5 from the queue to the explored and put 1 in the queue, remembering its predecessors. In the enxt step we move 1 from the queue to explored and end the algorithm, since the queue is now empty. We have not discovered the number 0.\n",
    "\n"
   ]
  },
  {
   "cell_type": "markdown",
   "id": "d6c4fa45",
   "metadata": {},
   "source": [
    "\n",
    "### Question 2\n",
    "\n",
    "\n"
   ]
  },
  {
   "cell_type": "code",
   "execution_count": 11,
   "id": "a92a92c0",
   "metadata": {},
   "outputs": [
    {
     "name": "stdout",
     "output_type": "stream",
     "text": [
      "cb\n"
     ]
    }
   ],
   "source": [
    "def remove_adjacent_duplicates(s):\n",
    "    stack = []\n",
    "    for letter in s:\n",
    "        if stack != [] and letter == stack[-1]:\n",
    "            stack.pop()\n",
    "        else:\n",
    "            stack.append(letter)\n",
    "    return ''.join(stack)\n",
    "\n",
    "print(remove_adjacent_duplicates('aacacbbcab'))"
   ]
  },
  {
   "cell_type": "markdown",
   "id": "2d5fa87c",
   "metadata": {},
   "source": [
    "\n",
    "### Question 3"
   ]
  },
  {
   "cell_type": "code",
   "execution_count": 71,
   "id": "9a2d9eec",
   "metadata": {},
   "outputs": [
    {
     "name": "stdout",
     "output_type": "stream",
     "text": [
      "ACA\n"
     ]
    }
   ],
   "source": [
    "from collections import deque\n",
    "\n",
    "example_graph2 = {\n",
    "    'A': ['B', 'C'],\n",
    "    'B': ['D', 'E'],\n",
    "    'C': ['A', 'E'],\n",
    "    'D': ['A'],\n",
    "    'E': ['A']}\n",
    "\n",
    "def bfs(graph, vertex):\n",
    "    C = []\n",
    "\n",
    "    # Initialize\n",
    "    explored = {u: \"UNDISCOVERED\" for u in graph}\n",
    "    predecessor = {u: None for u in graph}\n",
    "\n",
    "    explored[vertex] = \"DISCOVERED\" #setting the given vertex as explored\n",
    "    predecessor[vertex] = None\n",
    "\n",
    "    Q = deque()\n",
    "    Q.append(vertex) #adding the given vertex to the queue\n",
    "\n",
    "    # Main loop\n",
    "    while Q: #Creating a loop for eash vertex if queue is not empty\n",
    "        u = Q.popleft() #taking the first element of the queue\n",
    "        for w in graph[u]:\n",
    "            if explored[w] == \"UNDISCOVERED\":\n",
    "                explored[w] = \"DISCOVERED\"\n",
    "                predecessor[w] = u\n",
    "                Q.append(w)\n",
    "            elif w == vertex: #If vertex is adjacent to u\n",
    "                path = [vertex] #We initiate the path\n",
    "                while u is not None: #Reconstruction of the cycle\n",
    "                    path.insert(0, u) #So we don't have to reverse it after (saves time)\n",
    "                    u = predecessor[u] #We go back where we came from\n",
    "                return ''.join(path) #Since we only want one cycle we can stop the function when and if we find one cycle\n",
    "    return False\n",
    "print(bfs(example_graph2, 'A'))"
   ]
  },
  {
   "cell_type": "markdown",
   "id": "a2ca2090",
   "metadata": {},
   "source": [
    "\n",
    "### Question 4\n",
    "\n",
    "a) Proof with BFS: Let $v_1, v_2, . . . , v_(2n + 1)$ be a sequence representing an odd cycle. Then we can choose $v_1$ as the starting point of our cycle by definition. If we then color $v_1$ as color 1, we have to color $v_2$ and $v_(2n + 1)$ as color 2. We can choose $v_2$ as our next move of BFS ($v_2$ goes from the queue to explored and $v_(2n + 1)$ stays in the queue.). We then can go to only $v_3$, coloring it with color 1. Repeating this, we get all odd indexed vertices colored with color 1 and all even indexed vertices colored with color 2. So we have to color vetrex $v_(2n + 1) with color 1, but that would mean that adjacent vertices $v_1$ and $v_(2n + 1)$ would be colored with the same color. Proof follows.\n",
    "Note: We could also prove this by induction.\n",
    "\n",
    "b) Let's assume that G has no odd-lenght cycles but a valid coloring doesn't exist. That means, that there is a pair of adjacent vertices with the same color. For our starting point of BFS we can use an arbitrary vertex, naming it $v_1$. We then mark the two adjacent vertices as $v_2$ and $v_2k$, since the cycle has to be even. Using the BFS algorithm, we can move along the cycle until we reach one of the adjacent same-colored vertices. If the color of the starting vertex and the adjacent same-colored vertices is the same, then the index of the first discovered same-colored vertices has to be odd (proved in a)). If we then start from $v_1$ and continue to $v_2k$, coloring it the other color, we can eventually reach the second vertex of the two adjacent same-colored vertices. We have assumed that the color of it is the same as that of $v_1$, which means that the index of it has to be odd. Contradiction. If we assume that the coloring of the two adjacent same-colored vertices is different from the coloring of $v_1$, we reach the same conclusion, which is a contradiction with the even-ness of the cycle."
   ]
  },
  {
   "cell_type": "markdown",
   "id": "c8d5e6b9",
   "metadata": {},
   "source": [
    "### Question 5\n",
    "\n",
    "An example of the graph G would have V = {s, a, b, c, d} and E = {s -> a, s -> b, a -> c, a -> d, b -> c, b -> d}. A good set of tree edges $E_\\pi$ would be {s -> a, s -> b, a -> c, b -> d}. This way, for each vertex the unique path from s to that vertex is the shortest path. The set of edges $E_\\pi$ cannot be produced by BFS, since when the algorithm reaches either vertex a or b, it would see both c and d as adjacent vertices, making a (or b) the predecessor of both c and d, which is not the case in the graph $(V, E_\\pi)$."
   ]
  }
 ],
 "metadata": {
  "kernelspec": {
   "display_name": "Python 3",
   "language": "python",
   "name": "python3"
  },
  "language_info": {
   "codemirror_mode": {
    "name": "ipython",
    "version": 3
   },
   "file_extension": ".py",
   "mimetype": "text/x-python",
   "name": "python",
   "nbconvert_exporter": "python",
   "pygments_lexer": "ipython3",
   "version": "3.12.2"
  }
 },
 "nbformat": 4,
 "nbformat_minor": 5
}
