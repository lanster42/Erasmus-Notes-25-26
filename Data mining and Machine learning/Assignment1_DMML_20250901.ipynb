{
  "cells": [
    {
      "cell_type": "markdown",
      "id": "dd0817cd",
      "metadata": {
        "id": "dd0817cd"
      },
      "source": [
        "# Assignment 1\n",
        "This exercise has two parts:\n",
        "\n",
        "- Part A consists of mandatory exercises; you need to complete these and hand in your answers to be able to partake in the exam.\n",
        "\n",
        "- Part B consists of additional exercises. These repeat a concept that is covered in Part A or help to broaden or deepen your understanding of some of the topics.\n",
        "\n",
        "The idea is that Part A prepares you for (most of) the exam, but some exercises in part B might give you additional insights that both help to complete part A, and do better at the exam."
      ]
    },
    {
      "cell_type": "markdown",
      "id": "b1b40c88",
      "metadata": {
        "id": "b1b40c88"
      },
      "source": [
        "## Assignment by\n",
        "NAMES AND STUDENT NUMBERS"
      ]
    },
    {
      "cell_type": "markdown",
      "id": "db635491",
      "metadata": {
        "id": "db635491"
      },
      "source": [
        "# A: Mandatory Exercises\n",
        "Below you will find the mandatory exercises for week 1 of the course Data Mining and Machine Learning."
      ]
    },
    {
      "cell_type": "markdown",
      "id": "1b32a558",
      "metadata": {
        "id": "1b32a558"
      },
      "source": [
        "## A.0 What is data mining?\n",
        "This introductary section will cover some of the basics of Data Mining, as discussed in the TSKK book and the lecture."
      ]
    },
    {
      "cell_type": "markdown",
      "id": "e17787be",
      "metadata": {
        "id": "e17787be"
      },
      "source": [
        "### Exercise A.0.2\n",
        "\n",
        "How would you define data mining?"
      ]
    },
    {
      "cell_type": "markdown",
      "id": "f6ce0b76",
      "metadata": {
        "id": "f6ce0b76"
      },
      "source": [
        "YOUR ANSWER HERE"
      ]
    },
    {
      "cell_type": "markdown",
      "id": "e7b08a42",
      "metadata": {
        "id": "e7b08a42"
      },
      "source": [
        "### Exercise A.0.2\n",
        "\n",
        "What is the definition of data mining in TSKK? (Chapter 1)? *Hint, try exercise 1.7.1 from TSKK!*\n",
        "\n"
      ]
    },
    {
      "cell_type": "markdown",
      "id": "783c370e",
      "metadata": {
        "id": "783c370e"
      },
      "source": [
        "YOUR ANSWER HERE"
      ]
    },
    {
      "cell_type": "markdown",
      "id": "857be542",
      "metadata": {
        "id": "857be542"
      },
      "source": [
        "### Exercise A.0.3\n",
        "How do your definition and the definition from TSKK differ from the definition given on Wikipedia?"
      ]
    },
    {
      "cell_type": "markdown",
      "id": "27c60a48",
      "metadata": {
        "id": "27c60a48"
      },
      "source": [
        "YOUR ANSWER HERE"
      ]
    },
    {
      "cell_type": "markdown",
      "id": "3fc2858a",
      "metadata": {
        "id": "3fc2858a"
      },
      "source": [
        "### Exercise A.0.3\n",
        "\n",
        "Based on these definitions, find an example of a data mining application that appeared in the press (the more recent and the closer to home, the better...). What data mining tasks are involved?"
      ]
    },
    {
      "cell_type": "markdown",
      "id": "9cfc9520",
      "metadata": {
        "id": "9cfc9520"
      },
      "source": [
        "YOUR ANSWER HERE"
      ]
    },
    {
      "cell_type": "markdown",
      "id": "920a88c1",
      "metadata": {
        "id": "920a88c1"
      },
      "source": [
        "## A.1 Working with an actual dataset!\n",
        "During the lecture, and in the book, material is often discussed conceptually and can therefore remain quite abstract, so let's delve into the more practical aspects as well. Let's apply the basics of Data Mining to a simple dataset about flowers!\n",
        "\n",
        "Let's first explore the dataset a bit. We can use the 'head' function to get an idea of what the dataset looks like. Each row of the dataset is a flower. The columns describe different details of this flower.\n"
      ]
    },
    {
      "cell_type": "code",
      "execution_count": null,
      "id": "1f7800d0",
      "metadata": {
        "id": "1f7800d0",
        "outputId": "7a9411c7-de9b-440e-f88b-accc0e68c45d"
      },
      "outputs": [
        {
          "name": "stdout",
          "output_type": "stream",
          "text": [
            "Here follows a print of the first few rows of the Iris dataset: \n",
            "   sepal_length  sepal_width  petal_length  petal_width species\n",
            "0           5.1          3.5           1.4          0.2  setosa\n",
            "1           4.9          3.0           1.4          0.2  setosa\n",
            "2           4.7          3.2           1.3          0.2  setosa\n",
            "3           4.6          3.1           1.5          0.2  setosa\n",
            "4           5.0          3.6           1.4          0.2  setosa\n"
          ]
        }
      ],
      "source": [
        "import numpy as np\n",
        "import pandas as pd\n",
        "import seaborn as sns\n",
        "iris_data = sns.load_dataset('iris')\n",
        "print('Here follows a print of the first few rows of the Iris dataset: ')\n",
        "print(iris_data.head())"
      ]
    },
    {
      "cell_type": "markdown",
      "id": "50653582",
      "metadata": {
        "id": "50653582"
      },
      "source": [
        "### Exercise A.1.1\n",
        "\n",
        "Say we are interested in the relationship between two columns of the dataset. Assign the sepal length column of the iris dataset to the sepal_length object, and assign the petal width column to the petal_width object. Use the np.array() function such that both objects are np.ndarrays.\n"
      ]
    },
    {
      "cell_type": "code",
      "execution_count": null,
      "id": "e176f5cb",
      "metadata": {
        "id": "e176f5cb",
        "outputId": "2c337ddd-03d7-439f-ddb6-2103f2f72ed5"
      },
      "outputs": [
        {
          "ename": "NotImplementedError",
          "evalue": "",
          "output_type": "error",
          "traceback": [
            "\u001b[31m---------------------------------------------------------------------------\u001b[39m",
            "\u001b[31mNotImplementedError\u001b[39m                       Traceback (most recent call last)",
            "\u001b[36mCell\u001b[39m\u001b[36m \u001b[39m\u001b[32mIn[5]\u001b[39m\u001b[32m, line 5\u001b[39m\n\u001b[32m      3\u001b[39m petal_width = np.array(\u001b[38;5;28;01mNone\u001b[39;00m) \u001b[38;5;66;03m# Fill in the correct column from the iris dataset\u001b[39;00m\n\u001b[32m      4\u001b[39m \u001b[38;5;66;03m# YOUR CODE HERE\u001b[39;00m\n\u001b[32m----> \u001b[39m\u001b[32m5\u001b[39m \u001b[38;5;28;01mraise\u001b[39;00m \u001b[38;5;167;01mNotImplementedError\u001b[39;00m()\n",
            "\u001b[31mNotImplementedError\u001b[39m: "
          ]
        }
      ],
      "source": [
        "### FILL IN YOUR ANSWER BELOW\n",
        "sepal_length = np.array(None) # Fill in the correct column from the iris dataset\n",
        "petal_width = np.array(None) # Fill in the correct column from the iris dataset\n",
        "# YOUR CODE HERE\n",
        "raise NotImplementedError()"
      ]
    },
    {
      "cell_type": "markdown",
      "id": "a0882ee5",
      "metadata": {
        "id": "a0882ee5"
      },
      "source": [
        "### Exercise A.1.2\n",
        "\n",
        "In order to get an idea of the statistical relationship between different columns of the dataset, it can be helpful to plot the columns against each other. Use the matplotlib.pyplot package to create a scatterplot. Put the sepal length on the y-axis, and the petal width on the x-axis. Add the correct labels and a figure description (remember the examples from last week's exercises!)"
      ]
    },
    {
      "cell_type": "code",
      "execution_count": null,
      "id": "2dc1e853",
      "metadata": {
        "id": "2dc1e853",
        "outputId": "84a0faf4-90a3-405a-ed99-8dfc82c75da6"
      },
      "outputs": [
        {
          "data": {
            "image/png": "[encoded data removed]",
            "text/plain": [
              "<Figure size 640x480 with 1 Axes>"
            ]
          },
          "metadata": {},
          "output_type": "display_data"
        },
        {
          "name": "stdout",
          "output_type": "stream",
          "text": [
            "Figure 1: Add a nice description!\n"
          ]
        },
        {
          "ename": "NotImplementedError",
          "evalue": "",
          "output_type": "error",
          "traceback": [
            "\u001b[31m---------------------------------------------------------------------------\u001b[39m",
            "\u001b[31mNotImplementedError\u001b[39m                       Traceback (most recent call last)",
            "\u001b[36mCell\u001b[39m\u001b[36m \u001b[39m\u001b[32mIn[6]\u001b[39m\u001b[32m, line 11\u001b[39m\n\u001b[32m      8\u001b[39m \u001b[38;5;28mprint\u001b[39m(\u001b[33m'\u001b[39m\u001b[33mFigure 1: Add a nice description!\u001b[39m\u001b[33m'\u001b[39m)\n\u001b[32m     10\u001b[39m \u001b[38;5;66;03m# YOUR CODE HERE\u001b[39;00m\n\u001b[32m---> \u001b[39m\u001b[32m11\u001b[39m \u001b[38;5;28;01mraise\u001b[39;00m \u001b[38;5;167;01mNotImplementedError\u001b[39;00m()\n",
            "\u001b[31mNotImplementedError\u001b[39m: "
          ]
        }
      ],
      "source": [
        "import matplotlib.pyplot as plt\n",
        "\n",
        "### FILL IN YOUR ANSWER BELOW\n",
        "plt.scatter(None, None) # Fill in sepal_length and petal_width in the correct places\n",
        "plt.xlabel(\"INSERT_COLUMN_NAME\") # Put the correct label on the x-axis\n",
        "plt.ylabel(\"INSERT_COLUMN_NAME\") # Put the correct label on the y-axis\n",
        "plt.show()\n",
        "print('Figure 1: Add a nice description!')\n",
        "raise NotImplementedError()\n",
        "\n"
      ]
    },
    {
      "cell_type": "markdown",
      "id": "2c845140",
      "metadata": {
        "id": "2c845140"
      },
      "source": [
        "## A.2 Linear regression\n",
        "\n",
        "One common way to characterize the relationship between two variables is to use linear regression.\n",
        "In linear regression, we fit a line through the data points. We will now learn how this linear regression line is constructed.\n",
        "\n",
        "Our linear regression function will look as follows:\n",
        "$$\n",
        "    \\widehat{\\text{Petal Width}} = a + b \\cdot \\text{Sepal Length}.\n",
        "$$\n",
        "\n",
        "Where the hat over 'Petal Width' denotes that it is an estimate of the actual petal width. In this function, $a$ is the intercept, and $b$ is the slope. In practice, the variable on the y-axis is often just referred to as $y$, and the variable on the x-axis as $x$ or $X$. In this exercise, we shall do the same, so the formula becomes\n",
        "\n",
        "$$\n",
        "    \\hat{y} = a + b \\cdot X.\n",
        "$$\n",
        "\n",
        "Note here that $\\hat{y}$ and $X$ are vectors (which are $(N\\times1)$ matrices in which $N$ equals the number of samples in our dataset), and the intercept $a$ and slope $b$ are scalars (singular values). See the plot below for a visualization of the line that this formula would create for $a=1$ and $b=1$."
      ]
    },
    {
      "cell_type": "code",
      "execution_count": null,
      "id": "cb42c574",
      "metadata": {
        "id": "cb42c574",
        "outputId": "543245ff-467d-4850-8862-caf484aee9ac"
      },
      "outputs": [
        {
          "data": {
            "image/png": "[encoded data removed]",
            "text/plain": [
              "<Figure size 600x400 with 1 Axes>"
            ]
          },
          "metadata": {},
          "output_type": "display_data"
        },
        {
          "name": "stdout",
          "output_type": "stream",
          "text": [
            "Figure 3: Examples of what linear regression lines would look like if a = 1 and b = 1.\n"
          ]
        }
      ],
      "source": [
        "import matplotlib\n",
        "fig, ax = plt.subplots(1, figsize=(6, 4))\n",
        "ax.spines['left'].set_position('zero')\n",
        "ax.spines['right'].set_color('none')\n",
        "ax.spines['bottom'].set_position('zero')\n",
        "ax.spines['top'].set_color('none')\n",
        "ax.plot(np.array((-1,0,1,2)), np.array((0,1,2,3)))\n",
        "ax.plot(np.array((-1,0,1,2)),np.array((1,1,1,1)),'g--' )\n",
        "matplotlib.pyplot.text(1.5, 1.1, 'a (intercept)')\n",
        "matplotlib.pyplot.text(0.8, 2, 'a + b*X (intercept + slope)',rotation = 33)\n",
        "plt.xlabel(\"X\") # Put the correct label on the x-axis\n",
        "plt.ylabel(\"y\") # Put the correct label on the y-axis\n",
        "plt.show()\n",
        "print('Figure 3: Examples of what linear regression lines would look like if a = 1 and b = 1.')"
      ]
    },
    {
      "cell_type": "markdown",
      "id": "46cc6693",
      "metadata": {
        "id": "46cc6693"
      },
      "source": [
        "The intercept $a$ and slope $b$ are chosen (or 'fitted') using the 'least squares approach'. This means we look at the following function, which we call the loss function, and aim to minimize it:\n",
        "$$\n",
        "    \\text{Loss} = \\sum_i^N(y_i - \\hat{y_i})^2\n",
        "$$\n",
        "In other words, for each sample in the dataset $i$ out of a total of $N$ samples, we add together the squared difference between their actual petal width $y_i$, and the estimated petal width, which is $\\hat{y}_i = a + b \\cdot x_i$. We want to select the intercept $a$ and slope $b$ to make this Loss function as small as possible."
      ]
    },
    {
      "cell_type": "markdown",
      "id": "da45a30e",
      "metadata": {
        "id": "da45a30e"
      },
      "source": [
        "### Exercise A.2.1\n",
        "\n",
        "To start out, let us first take a very simple linear regression model. For this model, we set $b=0$, which means that the slope is set to zero. In other words, our linear regression line is a flat line. The only thing we can select is at what height ($a$) we set this line:\n",
        "$$\n",
        "    \\hat{y} = a + 0 \\cdot x = a\n",
        "$$\n",
        "Can you pick the intercept $a$ such that it minimizes the loss function above? (In other words, what height of the horizontal line would be closest to the actual petal widths $y$?) Calculate and print your results in the cell below.\n",
        "\n",
        "Hint: You might need to use the np.mean() and/or np.sum() functions!"
      ]
    },
    {
      "cell_type": "code",
      "execution_count": null,
      "id": "0928d1e6",
      "metadata": {
        "id": "0928d1e6",
        "outputId": "47d02816-77ec-4ead-d9d3-29fdad534521"
      },
      "outputs": [
        {
          "ename": "NotImplementedError",
          "evalue": "",
          "output_type": "error",
          "traceback": [
            "\u001b[31m---------------------------------------------------------------------------\u001b[39m",
            "\u001b[31mNotImplementedError\u001b[39m                       Traceback (most recent call last)",
            "\u001b[36mCell\u001b[39m\u001b[36m \u001b[39m\u001b[32mIn[8]\u001b[39m\u001b[32m, line 6\u001b[39m\n\u001b[32m      3\u001b[39m Loss_simple_model = \u001b[38;5;28;01mNone\u001b[39;00m \u001b[38;5;66;03m# Calculate the value of the loss function for the this simple model\u001b[39;00m\n\u001b[32m      5\u001b[39m \u001b[38;5;66;03m# YOUR CODE HERE\u001b[39;00m\n\u001b[32m----> \u001b[39m\u001b[32m6\u001b[39m \u001b[38;5;28;01mraise\u001b[39;00m \u001b[38;5;167;01mNotImplementedError\u001b[39;00m()\n\u001b[32m      8\u001b[39m \u001b[38;5;28mprint\u001b[39m(\u001b[33m\"\u001b[39m\u001b[33ma =\u001b[39m\u001b[33m\"\u001b[39m,a,\u001b[33m\"\u001b[39m\u001b[33m, Loss = \u001b[39m\u001b[33m\"\u001b[39m, Loss_simple_model)\n",
            "\u001b[31mNotImplementedError\u001b[39m: "
          ]
        }
      ],
      "source": [
        "### FILL IN YOUR ANSWER BELOW ####\n",
        "a = None # Insert formula to calculate a\n",
        "Loss_simple_model = None # Calculate the value of the loss function for the this simple model\n",
        "\n",
        "# YOUR CODE HERE\n",
        "raise NotImplementedError()\n",
        "\n",
        "print(\"a =\",a,\", Loss = \", Loss_simple_model)"
      ]
    },
    {
      "cell_type": "markdown",
      "id": "a58e42e2",
      "metadata": {
        "id": "a58e42e2"
      },
      "source": [
        "### Exercise A.2.2\n",
        "\n",
        "We can use the loss function to see how well our regression line fits the data. However, it can be more intuitive to inspect our regression line visually. Add the regression line that represents your simple regression model to the plot that you made previously. If you did not find $a$ in the last exercise, use $a = 1.2$."
      ]
    },
    {
      "cell_type": "code",
      "execution_count": null,
      "id": "81c9d6f6",
      "metadata": {
        "id": "81c9d6f6",
        "outputId": "d6cf4ebc-a78e-4c93-c708-3a5652565b79"
      },
      "outputs": [
        {
          "data": {
            "image/png": "[encoded data removed]",
            "text/plain": [
              "<Figure size 640x480 with 1 Axes>"
            ]
          },
          "metadata": {},
          "output_type": "display_data"
        }
      ],
      "source": [
        "plt.scatter(sepal_length,petal_width)\n",
        "plt.xlabel(\"Sepal length\")\n",
        "plt.ylabel(\"Petal width\")\n",
        "### FILL IN YOUR ANSWER BELOW\n",
        "plt.axhline(y = 0, color = 'b', linestyle = '-') #Instead of 0, fill in what the estimated petal widths would be of the simple model\n",
        "\n",
        "# YOUR CODE HERE\n",
        "raise NotImplementedError()\n",
        "\n",
        "plt.show()"
      ]
    },
    {
      "cell_type": "markdown",
      "id": "9ca1d723",
      "metadata": {
        "id": "9ca1d723"
      },
      "source": [
        "### Exercise A.2.3\n",
        "\n",
        "Does the simple model fit the data well? Why or why not?\n"
      ]
    },
    {
      "cell_type": "markdown",
      "id": "72cb28d3",
      "metadata": {
        "id": "72cb28d3"
      },
      "source": [
        "YOUR ANSWER HERE"
      ]
    },
    {
      "cell_type": "markdown",
      "id": "273db574",
      "metadata": {
        "id": "273db574"
      },
      "source": [
        "### Exercise A.2.4\n",
        "\n",
        "Let us instead use a model that includes a slope:\n",
        "$$\n",
        "    \\hat{y} = a + b\\cdot X.\n",
        "$$\n",
        "Can you choose both $a$ and $b$ to minimize the same loss function as above? This time, we will use the package 'scikit-learn'. This is a package that can automatically fit a linear regression model for us. Firstly, we create our model using the LinearRegression() function. Then, we fit our model using the  RegressionModel.fit() function. The first argument that this function requires is whatever variable is on the X-axis, and the second argument that this function requires is whatever variable is on the y-axis.\n",
        "\n",
        "Hint: The RegressionModel.fit() function does not like that our X-axis variable is a vector, rather than a matrix. You may need to use sepal_length.reshape(-1,1) rather than sepal_length."
      ]
    },
    {
      "cell_type": "code",
      "execution_count": null,
      "id": "83b8becd",
      "metadata": {
        "id": "83b8becd",
        "outputId": "1fa68807-6421-414f-ad57-ef515ea7e822"
      },
      "outputs": [
        {
          "ename": "ModuleNotFoundError",
          "evalue": "No module named 'sklearn'",
          "output_type": "error",
          "traceback": [
            "\u001b[31m---------------------------------------------------------------------------\u001b[39m",
            "\u001b[31mModuleNotFoundError\u001b[39m                       Traceback (most recent call last)",
            "\u001b[36mCell\u001b[39m\u001b[36m \u001b[39m\u001b[32mIn[11]\u001b[39m\u001b[32m, line 1\u001b[39m\n\u001b[32m----> \u001b[39m\u001b[32m1\u001b[39m \u001b[38;5;28;01mfrom\u001b[39;00m\u001b[38;5;250m \u001b[39m\u001b[34;01msklearn\u001b[39;00m\u001b[34;01m.\u001b[39;00m\u001b[34;01mlinear_model\u001b[39;00m\u001b[38;5;250m \u001b[39m\u001b[38;5;28;01mimport\u001b[39;00m LinearRegression\n\u001b[32m      2\u001b[39m RegressionModel = LinearRegression()\n\u001b[32m      4\u001b[39m \u001b[38;5;66;03m### FILL IN YOUR ANSWER BELOW\u001b[39;00m\n\u001b[32m      5\u001b[39m \n\u001b[32m      6\u001b[39m \u001b[38;5;66;03m#RegressionModel.fit(None,None)\u001b[39;00m\n\u001b[32m   (...)\u001b[39m\u001b[32m      9\u001b[39m \n\u001b[32m     10\u001b[39m \u001b[38;5;66;03m# YOUR CODE HERE\u001b[39;00m\n",
            "\u001b[31mModuleNotFoundError\u001b[39m: No module named 'sklearn'"
          ]
        }
      ],
      "source": [
        "from sklearn.linear_model import LinearRegression\n",
        "RegressionModel = LinearRegression()\n",
        "\n",
        "### FILL IN YOUR ANSWER BELOW\n",
        "\n",
        "#RegressionModel.fit(None,None)\n",
        "#a = RegressionModel.intercept_\n",
        "#b = RegressionModel.coef_\n",
        "\n",
        "# YOUR CODE HERE\n",
        "raise NotImplementedError()\n",
        "print(\"a =\",a,\", b =\",b)\n"
      ]
    },
    {
      "cell_type": "markdown",
      "id": "c9b5e490",
      "metadata": {
        "id": "c9b5e490"
      },
      "source": [
        "Now let's visualize this new regression model:"
      ]
    },
    {
      "cell_type": "code",
      "execution_count": null,
      "id": "3f71e0bf",
      "metadata": {
        "id": "3f71e0bf",
        "outputId": "e4fbd4e5-5192-4ec7-eb0a-50ddcba99333"
      },
      "outputs": [
        {
          "ename": "NameError",
          "evalue": "name 'RegressionModel' is not defined",
          "output_type": "error",
          "traceback": [
            "\u001b[31m---------------------------------------------------------------------------\u001b[39m",
            "\u001b[31mNameError\u001b[39m                                 Traceback (most recent call last)",
            "\u001b[36mCell\u001b[39m\u001b[36m \u001b[39m\u001b[32mIn[12]\u001b[39m\u001b[32m, line 1\u001b[39m\n\u001b[32m----> \u001b[39m\u001b[32m1\u001b[39m Y_hat_slope_model = RegressionModel.predict(sepal_length.reshape(-\u001b[32m1\u001b[39m,\u001b[32m1\u001b[39m))\n\u001b[32m      3\u001b[39m plt.scatter(iris_data[\u001b[33m\"\u001b[39m\u001b[33msepal_length\u001b[39m\u001b[33m\"\u001b[39m],iris_data[\u001b[33m\"\u001b[39m\u001b[33mpetal_width\u001b[39m\u001b[33m\"\u001b[39m])\n\u001b[32m      5\u001b[39m plt.plot(iris_data[\u001b[33m\"\u001b[39m\u001b[33msepal_length\u001b[39m\u001b[33m\"\u001b[39m],Y_hat_slope_model)\n",
            "\u001b[31mNameError\u001b[39m: name 'RegressionModel' is not defined"
          ]
        }
      ],
      "source": [
        "Y_hat_slope_model = RegressionModel.predict(sepal_length.reshape(-1,1))\n",
        "\n",
        "plt.scatter(iris_data[\"sepal_length\"],iris_data[\"petal_width\"])\n",
        "\n",
        "plt.plot(iris_data[\"sepal_length\"],Y_hat_slope_model)\n",
        "plt.xlabel(\"Sepal length\")\n",
        "plt.ylabel(\"Petal width\")\n",
        "plt.show()\n",
        "print( 'Loss = ',  np.sum((petal_width- Y_hat_slope_model)**2))"
      ]
    },
    {
      "cell_type": "markdown",
      "id": "a4f7195c",
      "metadata": {
        "id": "a4f7195c"
      },
      "source": [
        "### Theory exercise A.2.5\n",
        "- What does the slope parameter of the linear regression model tell us about the relation between sepal length and petal width?\n",
        "- The loss of this model is 28.65. Compare this loss to that of the simple model that only contains the intercept. Which model fits the data better, based on the loss? (If you could not calculate the loss of the earlier model, assume that it was 80."
      ]
    },
    {
      "cell_type": "markdown",
      "id": "227fec21",
      "metadata": {
        "id": "227fec21"
      },
      "source": [
        "YOUR ANSWER HERE"
      ]
    },
    {
      "cell_type": "markdown",
      "id": "ed7de106",
      "metadata": {
        "id": "ed7de106"
      },
      "source": [
        "### Exercise A.2.6\n",
        "We can use our linear regression model to 'predict' what the petal widths of new plants would be, if we have their sepal lengths! The array new_plants_sepal_lengths below denotes the sepal length of 5 new plants. However, we forgot to record the petal width. Use the regression model to predict the petal widths of these 5 new plants, based on their sepal length.\n",
        "\n",
        "Hint: Use the RegresssionModel.predict() function."
      ]
    },
    {
      "cell_type": "code",
      "execution_count": null,
      "id": "b3756f8f",
      "metadata": {
        "id": "b3756f8f",
        "outputId": "27077ba5-cc25-4303-c21c-07cfb6dc387d"
      },
      "outputs": [
        {
          "ename": "NotImplementedError",
          "evalue": "",
          "output_type": "error",
          "traceback": [
            "\u001b[31m---------------------------------------------------------------------------\u001b[39m",
            "\u001b[31mNotImplementedError\u001b[39m                       Traceback (most recent call last)",
            "\u001b[36mCell\u001b[39m\u001b[36m \u001b[39m\u001b[32mIn[14]\u001b[39m\u001b[32m, line 6\u001b[39m\n\u001b[32m      1\u001b[39m new_plants_sepal_lengths = np.array([[\u001b[32m8.6\u001b[39m],[\u001b[32m5\u001b[39m],[\u001b[32m7.4\u001b[39m],[\u001b[32m6.8\u001b[39m],[\u001b[32m1\u001b[39m]])\n\u001b[32m      3\u001b[39m \u001b[38;5;66;03m### FILL IN YOUR ANSWER BELOW\u001b[39;00m\n\u001b[32m      4\u001b[39m \n\u001b[32m      5\u001b[39m \u001b[38;5;66;03m# YOUR CODE HERE\u001b[39;00m\n\u001b[32m----> \u001b[39m\u001b[32m6\u001b[39m \u001b[38;5;28;01mraise\u001b[39;00m \u001b[38;5;167;01mNotImplementedError\u001b[39;00m()\n",
            "\u001b[31mNotImplementedError\u001b[39m: "
          ]
        }
      ],
      "source": [
        "new_plants_sepal_lengths = np.array([[8.6],[5],[7.4],[6.8],[1]])\n",
        "\n",
        "### FILL IN YOUR ANSWER BELOW\n",
        "\n",
        "# YOUR CODE HERE\n",
        "raise NotImplementedError()\n"
      ]
    },
    {
      "cell_type": "markdown",
      "id": "face47ba",
      "metadata": {
        "id": "face47ba"
      },
      "source": [
        "### Exercise A.2.7\n",
        "Do you think that all of these predictions are reasonable? Explain your answer."
      ]
    },
    {
      "cell_type": "markdown",
      "id": "e0f60e22",
      "metadata": {
        "id": "e0f60e22"
      },
      "source": [
        "YOUR ANSWER HERE"
      ]
    },
    {
      "cell_type": "markdown",
      "id": "42f2fd91",
      "metadata": {
        "id": "42f2fd91"
      },
      "source": [
        "# B: Additional Exercises\n",
        "Below you will find more exercises for week 1 of the course Data Mining and Machine Learning. You do not have to hand these in, but they are here to provide extra insight into the material."
      ]
    },
    {
      "cell_type": "markdown",
      "id": "e71fcd0b",
      "metadata": {
        "id": "e71fcd0b"
      },
      "source": [
        "## B.1"
      ]
    },
    {
      "cell_type": "markdown",
      "id": "1a661c25",
      "metadata": {
        "id": "1a661c25"
      },
      "source": [
        "The iris dataset we used above is only one of several available through seaborn, see the list of all datasets below. Repeat the process above on any of the other datasets, between two of the variables. Do you see any differences in performance, if so, why?"
      ]
    },
    {
      "cell_type": "code",
      "execution_count": null,
      "id": "486a660e",
      "metadata": {
        "id": "486a660e",
        "outputId": "4e90f062-e973-4015-de73-753cb59115e0"
      },
      "outputs": [
        {
          "data": {
            "text/plain": [
              "['anagrams',\n",
              " 'anscombe',\n",
              " 'attention',\n",
              " 'brain_networks',\n",
              " 'car_crashes',\n",
              " 'diamonds',\n",
              " 'dots',\n",
              " 'dowjones',\n",
              " 'exercise',\n",
              " 'flights',\n",
              " 'fmri',\n",
              " 'geyser',\n",
              " 'glue',\n",
              " 'healthexp',\n",
              " 'iris',\n",
              " 'mpg',\n",
              " 'penguins',\n",
              " 'planets',\n",
              " 'seaice',\n",
              " 'taxis',\n",
              " 'tips',\n",
              " 'titanic']"
            ]
          },
          "execution_count": 17,
          "metadata": {},
          "output_type": "execute_result"
        }
      ],
      "source": [
        "sns.get_dataset_names()"
      ]
    },
    {
      "cell_type": "markdown",
      "id": "5d44387d",
      "metadata": {
        "id": "5d44387d"
      },
      "source": [
        "# Handing in\n",
        "Hand in the filled-in notebook:\n",
        "- Make sure your names and student-numbers are mentioned at the appropriate location at the top of this file.\n",
        "- Make sure you wrote a serious attempt for all exercises in part A\n",
        "- Make sure the notebook is named groupnumber_assignment1.ipynb\n",
        "\n",
        "When you are confident all of this is correctly done, one of you can hand in the exercises in Brightspace!"
      ]
    }
  ],
  "metadata": {
    "kernelspec": {
      "display_name": "datamining",
      "language": "python",
      "name": "python3"
    },
    "language_info": {
      "codemirror_mode": {
        "name": "ipython",
        "version": 3
      },
      "file_extension": ".py",
      "mimetype": "text/x-python",
      "name": "python",
      "nbconvert_exporter": "python",
      "pygments_lexer": "ipython3",
      "version": "3.11.13"
    },
    "colab": {
      "provenance": [],
      "collapsed_sections": [
        "50653582"
      ]
    }
  },
  "nbformat": 4,
  "nbformat_minor": 5
}